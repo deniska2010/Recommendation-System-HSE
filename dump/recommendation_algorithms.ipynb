{
 "cells": [
  {
   "cell_type": "code",
   "execution_count": 45,
   "metadata": {},
   "outputs": [
    {
     "name": "stdout",
     "output_type": "stream",
     "text": [
      "loading data...\n"
     ]
    },
    {
     "name": "stderr",
     "output_type": "stream",
     "text": [
      "D:\\Anaconda\\lib\\site-packages\\sklearn\\utils\\validation.py:475: DataConversionWarning: Data with input dtype int64 was converted to float64 by MinMaxScaler.\n",
      "  warnings.warn(msg, DataConversionWarning)\n"
     ]
    },
    {
     "name": "stdout",
     "output_type": "stream",
     "text": [
      "the table's shape is:\n",
      "(3666, 1102)\n"
     ]
    }
   ],
   "source": [
    "import pandas as pd\n",
    "import numpy as np\n",
    "from sklearn.preprocessing import MinMaxScaler\n",
    "from sklearn.model_selection import train_test_split\n",
    "import matplotlib.pyplot as plt\n",
    "\n",
    "def data_clean(df, feature, m):\n",
    "    count = df[feature].value_counts()\n",
    "    df = df[df[feature].isin(count[count > m].index)]\n",
    "    return df\n",
    "\n",
    "def data_clean_sum(df,features,m):\n",
    "    fil = df.ProductId.value_counts()\n",
    "    fil2 = df.UserId.value_counts()\n",
    "    df['#Proudcts'] = df.ProductId.apply(lambda x: fil[x])\n",
    "    df['#Users'] = df.UserId.apply(lambda x: fil2[x])\n",
    "    while (df.ProductId.value_counts(ascending=True)[0]) < m or \\\n",
    "    (df.UserId.value_counts(ascending=True)[0] < m):\n",
    "        df = data_clean(df,features[0],m)\n",
    "        df = data_clean(df,features[1],m)\n",
    "    return df\n",
    "\n",
    "# check if it is correct\n",
    "\n",
    "def data():\n",
    "    print('loading data...')\n",
    "    df = pd.read_csv('Reviews.csv')\n",
    "    df['datetime'] = pd.to_datetime(df.Time, unit='s')\n",
    "    raw_data = data_clean_sum(df, ['ProductId', 'UserId'], 10)\n",
    "    # find X,and y\n",
    "    raw_data['uid'] = pd.factorize(raw_data['UserId'])[0]\n",
    "    raw_data['pid'] = pd.factorize(raw_data['ProductId'])[0]\n",
    "    sc = MinMaxScaler()\n",
    "    raw_data['time']=sc.fit_transform(raw_data['Time'].values.reshape(-1,1))\n",
    "    raw_data['nuser']=sc.fit_transform(raw_data['#Users'].values.reshape(-1,1))\n",
    "    raw_data['nproduct']=sc.fit_transform(raw_data['#Proudcts'].values.reshape(-1,1))\n",
    "    # Sepreate the features into three groups\n",
    "    X1 = raw_data.loc[:,['uid','pid']]\n",
    "    X2 = raw_data.loc[:,['uid','pid','time']]\n",
    "    X3 = raw_data.loc[:,['uid','pid','time','nuser','nproduct']]\n",
    "    y = raw_data.Score\n",
    "    # train_test split\n",
    "    X1_train,X1_test,y_train,y_test = train_test_split(X1,y,test_size=0.3,random_state=2017)\n",
    "    X2_train,X2_test,y_train,y_test = train_test_split(X2,y,test_size=0.3,random_state=2017)\n",
    "    X3_train,X3_test,y_train,y_test = train_test_split(X3,y,test_size=0.3,random_state=2017)\n",
    "    train = np.array(X1_train.join(y_train))\n",
    "    test = np.array(X1_test.join(y_test))\n",
    "    # got the productId to pid index\n",
    "    pid2PID = raw_data.ProductId.unique()\n",
    "\n",
    "    data_mixed = X1.join(y)\n",
    "    total_p = data_mixed['pid'].unique().shape[0]\n",
    "    total_u = data_mixed['uid'].unique().shape[0]\n",
    "    # make the user-item table\n",
    "    table = np.zeros([total_u,total_p])\n",
    "    z = np.array(data_mixed)\n",
    "    for line in z:\n",
    "        u,p,s = line\n",
    "        if table[u][p] < s:\n",
    "            table[u][p] = s #if some one score a single thing several times\n",
    "    print('the table\\'s shape is:' )\n",
    "    print(table.shape)\n",
    "    return z, total_u,total_p,pid2PID,train,test,table,raw_data\n",
    "\n",
    "z, total_u,total_p,pid2PID,train,test,table,raw_data = data()"
   ]
  },
  {
   "cell_type": "markdown",
   "metadata": {},
   "source": [
    "# Evaluate "
   ]
  },
  {
   "cell_type": "code",
   "execution_count": 14,
   "metadata": {},
   "outputs": [],
   "source": [
    "from sklearn.metrics import mean_squared_error\n",
    "def caculate_mse(x):\n",
    "    MSE1=[]\n",
    "    MSE2=[]\n",
    "    for line in train:\n",
    "        u,p,s = line\n",
    "        MSE1.append(s)\n",
    "        MSE2.append(x[u,p])\n",
    "    MSE_in_sample = mean_squared_error(MSE1,MSE2)\n",
    "    MSE3=[]\n",
    "    MSE4 = []\n",
    "    for line in test:\n",
    "        u,p,s = line\n",
    "        MSE3.append(s)\n",
    "        MSE4.append(x[u,p])\n",
    "    MSE_out_sample = mean_squared_error(MSE3,MSE4)\n",
    "    print('the in sample MSE = {} \\nthe out sample MSE = {}'.format(MSE_in_sample,MSE_out_sample))\n",
    "    return MSE_in_sample,MSE_out_sample\n",
    "\n",
    "\n",
    "def draw_mse(method,maxIter):\n",
    "    import time\n",
    "    c = []\n",
    "    d = []\n",
    "    timetime = []\n",
    "    for i in [1,2,5,7,10,20,50,70,100]:\n",
    "        tic = time.time()\n",
    "        data = method(factors=i,maxIter=maxIter)\n",
    "        a,b = caculate_mse(data)\n",
    "        c.append(a)\n",
    "        d.append(b)\n",
    "        toc = time.time()\n",
    "        timetime.append(toc-tic)\n",
    "    aa = [1, 2, 5, 7, 10, 20, 50, 70, 100]\n",
    "    for i in range(len(timetime)):\n",
    "\n",
    "        print('latent factors = {}, time = {}'.format(aa[i],timetime[i]))\n",
    "    plt.figure()\n",
    "    plt.plot(aa,c,label = 'in_sample_MSE')\n",
    "    plt.plot(aa,d,label = 'out_sample_MSE')\n",
    "    plt.xticks([1,2,5,7,10,20,50,70,100])\n",
    "    plt.legend()\n",
    "    plt.show()\n",
    "    return 0\n"
   ]
  },
  {
   "cell_type": "markdown",
   "metadata": {},
   "source": [
    "# Vizualization"
   ]
  },
  {
   "cell_type": "code",
   "execution_count": 21,
   "metadata": {},
   "outputs": [],
   "source": [
    "from sklearn.metrics import confusion_matrix\n",
    "import itertools\n",
    "def plot_confusion_matrix(cm, classes,\n",
    "                          normalize=False,\n",
    "                          title='Confusion matrix',\n",
    "                          cmap=plt.cm.Blues):\n",
    "    \"\"\"\n",
    "    This function prints and plots the confusion matrix.\n",
    "    Normalization can be applied by setting `normalize=True`.\n",
    "    \"\"\"\n",
    "    if normalize:\n",
    "        cm = cm.astype('float') / cm.sum(axis=1)[:, np.newaxis]\n",
    "        print(\"Normalized confusion matrix\")\n",
    "    else:\n",
    "        print('Confusion matrix, without normalization')\n",
    "\n",
    "    print(cm)\n",
    "    plt.imshow(cm, interpolation='nearest', cmap=cmap)\n",
    "    plt.title(title)\n",
    "    plt.colorbar()\n",
    "    tick_marks = np.arange(len(classes))\n",
    "    plt.xticks(tick_marks, classes, rotation=45)\n",
    "    plt.yticks(tick_marks, classes)\n",
    "\n",
    "    fmt = '.2f' if normalize else 'd'\n",
    "    thresh = cm.max() / 2.\n",
    "    for i, j in itertools.product(range(cm.shape[0]), range(cm.shape[1])):\n",
    "        plt.text(j, i, format(cm[i, j], fmt),\n",
    "                 horizontalalignment=\"center\",\n",
    "                 color=\"white\" if cm[i, j] > thresh else \"black\")\n",
    "\n",
    "    plt.tight_layout()\n",
    "    plt.ylabel('True label')\n",
    "    plt.xlabel('Predicted label')\n",
    "\n",
    "\n",
    "\n",
    "def drawcm(y_pred,y_test =test ,title=''):\n",
    "    print('caculating cm..')\n",
    "    y1=[]\n",
    "    y2=[]\n",
    "    for line in y_test:\n",
    "        u,p,s = line\n",
    "        y1.append(s)\n",
    "        y2.append(y_pred[u,p])\n",
    "    temp1 = []\n",
    "    temp2 = []\n",
    "    for i in range(len(y1)):\n",
    "        if np.array(y1)[i] >= 4:\n",
    "            temp1.append(1)\n",
    "        elif np.array(y1)[i] <= 2:\n",
    "            temp1.append(0)\n",
    "        else:\n",
    "            temp1.append(0)\n",
    "        if y2[i] >= 4:\n",
    "            temp2.append(1)\n",
    "        elif y2[i] <= 2:\n",
    "            temp2.append(0)\n",
    "        else:\n",
    "            temp2.append(0)\n",
    "    cm = confusion_matrix(temp1,temp2)\n",
    "    plt.figure()\n",
    "    plot_confusion_matrix(cm, classes=['not','recommand'], normalize=True,\n",
    "                          title=title)\n",
    "    plt.show()"
   ]
  },
  {
   "cell_type": "markdown",
   "metadata": {},
   "source": [
    "# Matrix Factoriztion"
   ]
  },
  {
   "cell_type": "code",
   "execution_count": 22,
   "metadata": {},
   "outputs": [],
   "source": [
    "def MF1(data=z, factors=30, maxIter=100, LRate=0.02, GD_end=1e-3, plot=False):\n",
    "    # initial the latent matrix for user and item\n",
    "    P = np.random.rand(total_u, factors) / 3\n",
    "    Q = np.random.rand(total_p, factors) / 3\n",
    "    # initial y as the history of loss\n",
    "    y = []\n",
    "    # initial the iteration and last loss\n",
    "    iteration = 0\n",
    "    last_loss = 0\n",
    "    while iteration < maxIter:\n",
    "        loss = 0\n",
    "        for i in range(data.shape[0]):\n",
    "            # get the uid,pid and the score from every line\n",
    "            u, p, s = data[i]\n",
    "            # calculate the error\n",
    "            error = s - np.dot(P[u], Q[p])\n",
    "            # calculate the loss function\n",
    "            # avoid loss become to large, scale to 1/50\n",
    "            loss += error ** 2 / 50\n",
    "            # update the parameter according to the gradient descent\n",
    "            pp = P[u]\n",
    "            qq = Q[p]\n",
    "            P[u] += LRate * error * qq\n",
    "            Q[p] += LRate * error * pp\n",
    "        iteration += 1\n",
    "        y.append(loss)\n",
    "        delta_loss = last_loss - loss\n",
    "        print('iter = {}, loss = {}, delta_loss = {}, LR = {}'.format(iteration, loss, delta_loss, LRate))\n",
    "        # update the learn rate to make sure it will converge\n",
    "        if abs(last_loss) > abs(loss):\n",
    "            LRate *= 1.05\n",
    "        else:\n",
    "            LRate *= 0.5\n",
    "        # When converge, stop the gradient descend\n",
    "        if abs(delta_loss) < abs(GD_end):\n",
    "            print('the diff in loss is {}, so the GD stops'.format(delta_loss))\n",
    "            break\n",
    "        last_loss = loss\n",
    "    if plot:\n",
    "        plt.plot(y)\n",
    "        plt.show()\n",
    "    return P.dot(Q.T)"
   ]
  },
  {
   "cell_type": "code",
   "execution_count": 23,
   "metadata": {
    "scrolled": false
   },
   "outputs": [
    {
     "name": "stdout",
     "output_type": "stream",
     "text": [
      "iter = 1, loss = 3307.6040945337645, delta_loss = -3307.6040945337645, LR = 0.02\n",
      "iter = 2, loss = 958.3536108483506, delta_loss = 2349.250483685414, LR = 0.01\n",
      "iter = 3, loss = 622.6404090850418, delta_loss = 335.7132017633088, LR = 0.0105\n",
      "iter = 4, loss = 574.5033977849312, delta_loss = 48.13701130011066, LR = 0.011025000000000002\n",
      "iter = 5, loss = 540.175395029607, delta_loss = 34.32800275532418, LR = 0.011576250000000003\n",
      "iter = 6, loss = 505.2999486787047, delta_loss = 34.87544635090228, LR = 0.012155062500000004\n",
      "iter = 7, loss = 466.1450380200264, delta_loss = 39.15491065867832, LR = 0.012762815625000005\n",
      "iter = 8, loss = 423.23412207529935, delta_loss = 42.91091594472704, LR = 0.013400956406250006\n",
      "iter = 9, loss = 379.10593716964894, delta_loss = 44.128184905650414, LR = 0.014071004226562506\n",
      "iter = 10, loss = 336.34700178002436, delta_loss = 42.75893538962458, LR = 0.014774554437890632\n",
      "iter = 11, loss = 296.558671979763, delta_loss = 39.78832980026135, LR = 0.015513282159785164\n",
      "iter = 12, loss = 260.3543942873961, delta_loss = 36.20427769236693, LR = 0.016288946267774423\n",
      "iter = 13, loss = 227.9434124231763, delta_loss = 32.410981864219764, LR = 0.017103393581163143\n",
      "iter = 14, loss = 199.4429717509525, delta_loss = 28.500440672223817, LR = 0.0179585632602213\n",
      "iter = 15, loss = 174.84843557792823, delta_loss = 24.594536173024267, LR = 0.018856491423232365\n",
      "iter = 16, loss = 154.00036741418796, delta_loss = 20.848068163740265, LR = 0.019799315994393985\n",
      "iter = 17, loss = 136.6188882820963, delta_loss = 17.38147913209167, LR = 0.020789281794113684\n",
      "iter = 18, loss = 122.3469483355297, delta_loss = 14.27193994656659, LR = 0.02182874588381937\n",
      "iter = 19, loss = 110.78693875694569, delta_loss = 11.560009578584015, LR = 0.02292018317801034\n",
      "iter = 20, loss = 101.53714770336968, delta_loss = 9.249791053576004, LR = 0.024066192336910857\n",
      "iter = 21, loss = 94.223243063172, delta_loss = 7.313904640197677, LR = 0.0252695019537564\n",
      "iter = 22, loss = 88.51693106904382, delta_loss = 5.7063119941281855, LR = 0.02653297705144422\n",
      "iter = 23, loss = 84.1418880938036, delta_loss = 4.37504297524022, LR = 0.02785962590401643\n",
      "iter = 24, loss = 80.8720165472652, delta_loss = 3.269871546538397, LR = 0.029252607199217254\n",
      "iter = 25, loss = 78.5263929470446, delta_loss = 2.3456236002206055, LR = 0.030715237559178116\n",
      "iter = 26, loss = 76.96329804290949, delta_loss = 1.563094904135113, LR = 0.03225099943713702\n",
      "iter = 27, loss = 76.07461511463981, delta_loss = 0.8886829282696738, LR = 0.03386354940899387\n",
      "iter = 28, loss = 75.78140836888765, delta_loss = 0.2932067457521583, LR = 0.03555672687944357\n",
      "iter = 29, loss = 76.03126049787572, delta_loss = -0.24985212898806708, LR = 0.03733456322341575\n",
      "iter = 30, loss = 61.35542224401091, delta_loss = 14.67583825386481, LR = 0.018667281611707876\n",
      "iter = 31, loss = 59.862821840101695, delta_loss = 1.492600403909215, LR = 0.01960064569229327\n",
      "iter = 32, loss = 59.844635969694124, delta_loss = 0.018185870407570803, LR = 0.020580677976907935\n",
      "iter = 33, loss = 60.073349209663526, delta_loss = -0.22871323996940163, LR = 0.02160971187575333\n",
      "iter = 34, loss = 53.13592756617432, delta_loss = 6.937421643489209, LR = 0.010804855937876666\n",
      "iter = 35, loss = 52.64225466116655, delta_loss = 0.49367290500777017, LR = 0.0113450987347705\n",
      "iter = 36, loss = 52.68854925765755, delta_loss = -0.04629459649100198, LR = 0.011912353671509024\n",
      "iter = 37, loss = 49.194101447627936, delta_loss = 3.4944478100296124, LR = 0.005956176835754512\n",
      "iter = 38, loss = 49.02333642160988, delta_loss = 0.17076502601805288, LR = 0.006253985677542238\n",
      "iter = 39, loss = 49.04468827794305, delta_loss = -0.02135185633316894, LR = 0.00656668496141935\n",
      "iter = 40, loss = 47.176348870263496, delta_loss = 1.8683394076795565, LR = 0.003283342480709675\n",
      "iter = 41, loss = 47.127184214277705, delta_loss = 0.04916465598579123, LR = 0.003447509604745159\n",
      "iter = 42, loss = 47.14266597736552, delta_loss = -0.015481763087812794, LR = 0.003619885084982417\n",
      "iter = 43, loss = 46.11685106835402, delta_loss = 1.025814909011494, LR = 0.0018099425424912086\n",
      "iter = 44, loss = 46.111132749843456, delta_loss = 0.005718318510567144, LR = 0.0019004396696157692\n",
      "iter = 45, loss = 46.123089442943936, delta_loss = -0.011956693100479754, LR = 0.0019954616530965578\n",
      "iter = 46, loss = 45.55630639648119, delta_loss = 0.5667830464627457, LR = 0.0009977308265482789\n",
      "iter = 47, loss = 45.56073629216286, delta_loss = -0.004429895681667517, LR = 0.0010476173678756928\n",
      "iter = 48, loss = 45.2606147113251, delta_loss = 0.30012158083776086, LR = 0.0005238086839378464\n",
      "iter = 49, loss = 45.26410394591057, delta_loss = -0.0034892345854729, LR = 0.0005499991181347388\n",
      "iter = 50, loss = 45.10626656084048, delta_loss = 0.1578373850700885, LR = 0.0002749995590673694\n",
      "iter = 51, loss = 45.10846121200579, delta_loss = -0.0021946511653112566, LR = 0.00028874953702073787\n",
      "iter = 52, loss = 45.02556461137265, delta_loss = 0.0828966006331413, LR = 0.00014437476851036893\n",
      "iter = 53, loss = 45.02681741107112, delta_loss = -0.0012527996984701417, LR = 0.0001515935069358874\n",
      "iter = 54, loss = 44.98329350444438, delta_loss = 0.04352390662673855, LR = 7.57967534679437e-05\n",
      "iter = 55, loss = 44.98397879356326, delta_loss = -0.0006852891188771082, LR = 7.958659114134088e-05\n",
      "the diff in loss is -0.0006852891188771082, so the GD stops\n"
     ]
    },
    {
     "data": {
      "image/png": "[encoded data removed]",
      "text/plain": [
       "<Figure size 432x288 with 1 Axes>"
      ]
     },
     "metadata": {},
     "output_type": "display_data"
    },
    {
     "name": "stdout",
     "output_type": "stream",
     "text": [
      "the in sample MSE = 0.03538197029440516 \n",
      "the out sample MSE = 0.033854052411442306\n",
      "caculating cm..\n",
      "Normalized confusion matrix\n",
      "[[0.98999183 0.01000817]\n",
      " [0.14528669 0.85471331]]\n"
     ]
    },
    {
     "data": {
      "image/png": "[encoded data removed]",
      "text/plain": [
       "<Figure size 432x288 with 2 Axes>"
      ]
     },
     "metadata": {},
     "output_type": "display_data"
    }
   ],
   "source": [
    "result = MF1(factors=30, maxIter=100, LRate=0.02, GD_end=1e-3, plot=1)\n",
    "caculate_mse(result)\n",
    "drawcm(result,title='MF')"
   ]
  },
  {
   "cell_type": "markdown",
   "metadata": {},
   "source": [
    "# Probalistic Matrix Factorization"
   ]
  },
  {
   "cell_type": "code",
   "execution_count": 24,
   "metadata": {},
   "outputs": [],
   "source": [
    "def PMF(data=z, factors=30, maxIter=100, LRate=0.02, GD_end=1e-3, regU = 0.01 ,regI = 0.01 ,plot=False):\n",
    "    P = np.random.rand(total_u, factors) / 3\n",
    "    Q = np.random.rand(total_p, factors) / 3\n",
    "    y = []\n",
    "    iteration = 0\n",
    "    last_loss = 100\n",
    "    while iteration < maxIter:\n",
    "        loss = 0\n",
    "        for i in range(data.shape[0]):\n",
    "            u, p, s = data[i]\n",
    "            error = s - np.dot(P[u], Q[p])\n",
    "            loss += error ** 2/50\n",
    "            pp = P[u]\n",
    "            qq = Q[p]\n",
    "            P[u] += LRate *  (error * qq - regU*pp)\n",
    "            Q[p] += LRate * (error * pp - regI * qq)\n",
    "        loss += regU*(P*P).sum() +regI*(Q*Q).sum()\n",
    "        iteration += 1\n",
    "        y.append(loss)\n",
    "        delta_loss = last_loss - loss\n",
    "        print('iter = {}, loss = {}, delta_loss = {}, LR = {}'.format(iteration, loss, delta_loss, LRate))\n",
    "        if abs(last_loss) > abs(loss):\n",
    "            LRate *= 1.05\n",
    "        else:\n",
    "            LRate *= 0.5\n",
    "\n",
    "        if abs(delta_loss) < abs(GD_end):\n",
    "            print('the diff in loss is {}, so the GD stops'.format(delta_loss))\n",
    "            break\n",
    "        last_loss = loss\n",
    "    if plot:\n",
    "        plt.plot(y)\n",
    "        plt.show()\n",
    "    return P.dot(Q.T)"
   ]
  },
  {
   "cell_type": "code",
   "execution_count": 25,
   "metadata": {},
   "outputs": [
    {
     "name": "stdout",
     "output_type": "stream",
     "text": [
      "iter = 1, loss = 3478.221389494684, delta_loss = -3378.221389494684, LR = 0.02\n",
      "iter = 2, loss = 1108.0040348018013, delta_loss = 2370.2173546928825, LR = 0.01\n",
      "iter = 3, loss = 790.2390126450848, delta_loss = 317.76502215671644, LR = 0.0105\n",
      "iter = 4, loss = 746.1608275651575, delta_loss = 44.078185079927266, LR = 0.011025000000000002\n",
      "iter = 5, loss = 716.1371258332301, delta_loss = 30.023701731927417, LR = 0.011576250000000003\n",
      "iter = 6, loss = 686.2873065521387, delta_loss = 29.849819281091413, LR = 0.012155062500000004\n",
      "iter = 7, loss = 652.5705911302925, delta_loss = 33.716715421846175, LR = 0.012762815625000005\n",
      "iter = 8, loss = 614.8501799168087, delta_loss = 37.720411213483885, LR = 0.013400956406250006\n",
      "iter = 9, loss = 575.1937299898215, delta_loss = 39.65644992698719, LR = 0.014071004226562506\n",
      "iter = 10, loss = 535.9220935243707, delta_loss = 39.2716364654508, LR = 0.014774554437890632\n",
      "iter = 11, loss = 498.6220418098145, delta_loss = 37.30005171455616, LR = 0.015513282159785164\n",
      "iter = 12, loss = 464.2166961944342, delta_loss = 34.40534561538033, LR = 0.016288946267774423\n",
      "iter = 13, loss = 433.2538149146891, delta_loss = 30.96288127974509, LR = 0.017103393581163143\n",
      "iter = 14, loss = 406.07287156289794, delta_loss = 27.180943351791143, LR = 0.0179585632602213\n",
      "iter = 15, loss = 382.7962112366458, delta_loss = 23.27666032625217, LR = 0.018856491423232365\n",
      "iter = 16, loss = 363.2884904865441, delta_loss = 19.50772075010167, LR = 0.019799315994393985\n",
      "iter = 17, loss = 347.2141877278225, delta_loss = 16.074302758721615, LR = 0.020789281794113684\n",
      "iter = 18, loss = 334.1493740004247, delta_loss = 13.064813727397791, LR = 0.02182874588381937\n",
      "iter = 19, loss = 323.6635783944839, delta_loss = 10.48579560594078, LR = 0.02292018317801034\n",
      "iter = 20, loss = 315.3544751544664, delta_loss = 8.30910324001752, LR = 0.024066192336910857\n",
      "iter = 21, loss = 308.8585482719399, delta_loss = 6.495926882526476, LR = 0.0252695019537564\n",
      "iter = 22, loss = 303.85591375198834, delta_loss = 5.0026345199515845, LR = 0.02653297705144422\n",
      "iter = 23, loss = 300.07336533593457, delta_loss = 3.7825484160537712, LR = 0.02785962590401643\n",
      "iter = 24, loss = 297.2843365918374, delta_loss = 2.789028744097152, LR = 0.029252607199217254\n",
      "iter = 25, loss = 295.3054947100608, delta_loss = 1.9788418817765887, LR = 0.030715237559178116\n",
      "iter = 26, loss = 293.99127475761895, delta_loss = 1.3142199524418743, LR = 0.03225099943713702\n",
      "iter = 27, loss = 293.22781742148516, delta_loss = 0.7634573361337971, LR = 0.03386354940899387\n",
      "iter = 28, loss = 292.9272118929071, delta_loss = 0.30060552857804623, LR = 0.03555672687944357\n",
      "iter = 29, loss = 293.02249593648503, delta_loss = -0.09528404357791942, LR = 0.03733456322341575\n",
      "iter = 30, loss = 281.5552147191114, delta_loss = 11.467281217373625, LR = 0.018667281611707876\n",
      "iter = 31, loss = 280.26682583318967, delta_loss = 1.2883888859217336, LR = 0.01960064569229327\n",
      "iter = 32, loss = 280.34427393881106, delta_loss = -0.07744810562138582, LR = 0.020580677976907935\n",
      "iter = 33, loss = 275.27908307739057, delta_loss = 5.06519086142049, LR = 0.010290338988453968\n",
      "iter = 34, loss = 274.76594613639173, delta_loss = 0.5131369409988338, LR = 0.010804855937876666\n",
      "iter = 35, loss = 274.8251605530153, delta_loss = -0.059214416623547095, LR = 0.0113450987347705\n",
      "iter = 36, loss = 272.30658226733954, delta_loss = 2.518578285675744, LR = 0.00567254936738525\n",
      "iter = 37, loss = 272.09306325703835, delta_loss = 0.2135190103011837, LR = 0.005956176835754512\n",
      "iter = 38, loss = 272.12672408244924, delta_loss = -0.03366082541089099, LR = 0.006253985677542238\n",
      "iter = 39, loss = 270.7647650989759, delta_loss = 1.3619589834733574, LR = 0.003126992838771119\n",
      "iter = 40, loss = 270.6857563033049, delta_loss = 0.07900879567097263, LR = 0.003283342480709675\n",
      "iter = 41, loss = 270.7061301353, delta_loss = -0.020373831995073033, LR = 0.003447509604745159\n",
      "iter = 42, loss = 269.92532264177163, delta_loss = 0.7808074935283571, LR = 0.0017237548023725795\n",
      "iter = 43, loss = 269.90862291137387, delta_loss = 0.01669973039776096, LR = 0.0018099425424912086\n",
      "iter = 44, loss = 269.92286886199093, delta_loss = -0.014245950617066683, LR = 0.0019004396696157692\n",
      "iter = 45, loss = 269.4726618288414, delta_loss = 0.4502070331495247, LR = 0.0009502198348078846\n",
      "iter = 46, loss = 269.47554464604093, delta_loss = -0.0028828171995201046, LR = 0.0009977308265482789\n",
      "iter = 47, loss = 269.2285094314341, delta_loss = 0.24703521460685351, LR = 0.0004988654132741394\n",
      "iter = 48, loss = 269.23225039662054, delta_loss = -0.003740965186466383, LR = 0.0005238086839378464\n",
      "iter = 49, loss = 269.1002909404866, delta_loss = 0.13195945613392723, LR = 0.0002619043419689232\n",
      "iter = 50, loss = 269.1029390277994, delta_loss = -0.0026480873127638915, LR = 0.0002749995590673694\n",
      "iter = 51, loss = 269.03311367545825, delta_loss = 0.06982535234112675, LR = 0.0001374997795336847\n",
      "iter = 52, loss = 269.03469239006745, delta_loss = -0.0015787146091952309, LR = 0.00014437476851036893\n",
      "iter = 53, loss = 268.9978944421098, delta_loss = 0.03679794795766611, LR = 7.218738425518447e-05\n",
      "iter = 54, loss = 268.99877475968066, delta_loss = -0.0008803175708749222, LR = 7.57967534679437e-05\n",
      "the diff in loss is -0.0008803175708749222, so the GD stops\n"
     ]
    },
    {
     "data": {
      "image/png": "[encoded data removed]",
      "text/plain": [
       "<Figure size 432x288 with 1 Axes>"
      ]
     },
     "metadata": {},
     "output_type": "display_data"
    },
    {
     "name": "stdout",
     "output_type": "stream",
     "text": [
      "the in sample MSE = 0.037865655566060974 \n",
      "the out sample MSE = 0.03627835707546837\n",
      "caculating cm..\n",
      "Normalized confusion matrix\n",
      "[[0.99162582 0.00837418]\n",
      " [0.19380814 0.80619186]]\n"
     ]
    },
    {
     "data": {
      "image/png": "[encoded data removed]",
      "text/plain": [
       "<Figure size 432x288 with 2 Axes>"
      ]
     },
     "metadata": {},
     "output_type": "display_data"
    }
   ],
   "source": [
    "result =PMF( factors=30, maxIter=100, LRate=0.02, GD_end=1e-3, plot=1)\n",
    "caculate_mse(result)\n",
    "drawcm(result,title='MF')"
   ]
  },
  {
   "cell_type": "markdown",
   "metadata": {},
   "source": [
    "# SVD"
   ]
  },
  {
   "cell_type": "code",
   "execution_count": 34,
   "metadata": {},
   "outputs": [],
   "source": [
    "from scipy.sparse.linalg import svds\n",
    "from numpy import linalg as la\n",
    "def svdrec(table = table, factors= 150):\n",
    "    UI = np.matrix(table)\n",
    "    # ui_df = pd.DataFrame(UI,index=table.index, columns=table.columns)\n",
    "    user_ratings_mean = np.mean(UI,axis=0)\n",
    "    user_ratings_mean = user_ratings_mean.reshape(1,-1)\n",
    "    UI_demeaned=UI-user_ratings_mean\n",
    "    U,sigma,Vt=svds(UI_demeaned,factors)\n",
    "    sigma = np.diag(sigma)\n",
    "    pred_mat = np.dot(np.dot(U,sigma),Vt) + user_ratings_mean\n",
    "    sc=MinMaxScaler(feature_range = (1,5))\n",
    "    pred_mat = sc.fit_transform(pred_mat)\n",
    "    # prediction_df=pd.DataFrame(pred_mat,index=table.index,columns=table.columns)\n",
    "    return pred_mat\n"
   ]
  },
  {
   "cell_type": "code",
   "execution_count": 35,
   "metadata": {},
   "outputs": [
    {
     "name": "stdout",
     "output_type": "stream",
     "text": [
      "the in sample MSE = 0.3982335596954266 \n",
      "the out sample MSE = 0.39813597209585766\n",
      "caculating cm..\n",
      "Normalized confusion matrix\n",
      "[[0.96364379 0.03635621]\n",
      " [0.15361655 0.84638345]]\n"
     ]
    },
    {
     "data": {
      "image/png": "[encoded data removed]",
      "text/plain": [
       "<Figure size 432x288 with 2 Axes>"
      ]
     },
     "metadata": {},
     "output_type": "display_data"
    }
   ],
   "source": [
    "result = svdrec()\n",
    "caculate_mse(result)\n",
    "drawcm(result,title='MF')"
   ]
  },
  {
   "cell_type": "markdown",
   "metadata": {},
   "source": [
    "# Random Forest"
   ]
  },
  {
   "cell_type": "code",
   "execution_count": 48,
   "metadata": {},
   "outputs": [],
   "source": [
    "from sklearn.metrics import *\n",
    "from sklearn.preprocessing import *\n",
    "from sklearn.ensemble import *\n",
    "def rf():\n",
    "    # find X,and y\n",
    "    raw_data['uid'] = pd.factorize(raw_data['UserId'])[0]\n",
    "    raw_data['pid'] = pd.factorize(raw_data['ProductId'])[0]\n",
    "    from sklearn.preprocessing import MinMaxScaler\n",
    "    sc = MinMaxScaler()\n",
    "    raw_data['time']=sc.fit_transform(raw_data['Time'].values.reshape(-1,1))\n",
    "    raw_data['nuser']=sc.fit_transform(raw_data['#Users'].values.reshape(-1,1))\n",
    "    raw_data['nproduct']=sc.fit_transform(raw_data['#Proudcts'].values.reshape(-1,1))\n",
    "\n",
    "    X1 = raw_data.loc[:,['uid','pid']]\n",
    "    X2 = raw_data.loc[:,['uid','pid','time']]\n",
    "    X3 = raw_data.loc[:,['uid','pid','time','nuser','nproduct']]\n",
    "    y = raw_data.Score\n",
    "\n",
    "    from sklearn.model_selection import train_test_split\n",
    "    X1_train,X1_test,y_train,y_test = train_test_split(X1,y,test_size=0.3,random_state=2017)\n",
    "    X2_train,X2_test,y_train,y_test = train_test_split(X2,y,test_size=0.3,random_state=2017)\n",
    "    X3_train,X3_test,y_train,y_test = train_test_split(X3,y,test_size=0.3,random_state=2017)\n",
    "    a=RandomForestRegressor()\n",
    "    a.fit(X3_train,y_train)\n",
    "    y3 = a.predict(X3_test)\n",
    "    sc = MinMaxScaler(feature_range=(1,5))\n",
    "    c = mean_squared_error(y_train,a.predict(X3_train)), mean_squared_error(y_test,sc.fit_transform(y3.reshape(-1,1)))\n",
    "    b = mean_squared_error(y_test,y3)\n",
    "    print('train MSE is {}, test MSE is {}'.format(c,b))\n",
    "\n",
    "    c3 = y3>=4\n",
    "    t = y_test>=4\n",
    "    print('accuracy of recommandtion:')\n",
    "    print(accuracy_score(t,c3))\n",
    "    c31 = y3<=1\n",
    "    t1 = y_test<=1\n",
    "    print('accuracy of not recommandtion:')\n",
    "    print(accuracy_score(t1,c31))\n",
    "    y_pred3 = []\n",
    "    y_test3 = []\n",
    "    for i in range(y3.shape[0]):\n",
    "        if y3[i]>=4:\n",
    "            y_pred3.append(1)\n",
    "        elif y3[i]<4:\n",
    "            y_pred3.append(0)\n",
    "        # else:\n",
    "            # y_pred3.append(1)\n",
    "\n",
    "    for j in range(y3.shape[0]):\n",
    "        if np.array(y_test)[j]>=4:\n",
    "            y_test3.append(1)\n",
    "        elif np.array(y_test)[j]<4:\n",
    "            y_test3.append(0)\n",
    "        # else:\n",
    "            # y_test3.append(1)\n",
    "    import itertools\n",
    "    import matplotlib.pyplot as plt\n",
    "    def plot_confusion_matrix(cm, classes,\n",
    "                              normalize=False,\n",
    "                              title='Confusion matrix',\n",
    "                              cmap=plt.cm.Blues):\n",
    "        \"\"\"\n",
    "        This function prints and plots the confusion matrix.\n",
    "        Normalization can be applied by setting `normalize=True`.\n",
    "        \"\"\"\n",
    "        if normalize:\n",
    "            cm = cm.astype('float') / cm.sum(axis=1)[:, np.newaxis]\n",
    "            print(\"Normalized confusion matrix\")\n",
    "        else:\n",
    "            print('Confusion matrix, without normalization')\n",
    "\n",
    "        print(cm)\n",
    "        plt.imshow(cm, interpolation='nearest', cmap=cmap)\n",
    "        plt.title(title)\n",
    "        plt.colorbar()\n",
    "        tick_marks = np.arange(len(classes))\n",
    "        plt.xticks(tick_marks, classes, rotation=45)\n",
    "        plt.yticks(tick_marks, classes)\n",
    "\n",
    "        fmt = '.2f' if normalize else 'd'\n",
    "        thresh = cm.max() / 2.\n",
    "        for i, j in itertools.product(range(cm.shape[0]), range(cm.shape[1])):\n",
    "            plt.text(j, i, format(cm[i, j], fmt),\n",
    "                     horizontalalignment=\"center\",\n",
    "                     color=\"white\" if cm[i, j] > thresh else \"black\")\n",
    "\n",
    "        plt.tight_layout()\n",
    "        plt.ylabel('True label')\n",
    "        plt.xlabel('Predicted label')\n",
    "    class_names = ['not recommand','recommand']\n",
    "    cnf_matrix = confusion_matrix(y_test3,y_pred3)\n",
    "    np.set_printoptions(precision=2)\n",
    "    plt.figure()\n",
    "    plot_confusion_matrix(cnf_matrix, classes=class_names, normalize=True,\n",
    "                          title='rf')\n",
    "\n",
    "\n",
    "    plt.show()\n",
    "    return a"
   ]
  },
  {
   "cell_type": "code",
   "execution_count": 49,
   "metadata": {},
   "outputs": [
    {
     "name": "stderr",
     "output_type": "stream",
     "text": [
      "D:\\Anaconda\\lib\\site-packages\\sklearn\\utils\\validation.py:475: DataConversionWarning: Data with input dtype int64 was converted to float64 by MinMaxScaler.\n",
      "  warnings.warn(msg, DataConversionWarning)\n"
     ]
    },
    {
     "name": "stdout",
     "output_type": "stream",
     "text": [
      "train MSE is (0.07146856355845015, 0.3393944189104509), test MSE is 0.3393944189104509\n",
      "accuracy of recommandtion:\n",
      "0.8786654232721998\n",
      "accuracy of not recommandtion:\n",
      "0.9796394156046005\n",
      "Normalized confusion matrix\n",
      "[[0.89 0.11]\n",
      " [0.13 0.87]]\n"
     ]
    },
    {
     "data": {
      "image/png": "[encoded data removed]",
      "text/plain": [
       "<Figure size 432x288 with 2 Axes>"
      ]
     },
     "metadata": {},
     "output_type": "display_data"
    },
    {
     "data": {
      "text/plain": [
       "RandomForestRegressor(bootstrap=True, criterion='mse', max_depth=None,\n",
       "           max_features='auto', max_leaf_nodes=None,\n",
       "           min_impurity_decrease=0.0, min_impurity_split=None,\n",
       "           min_samples_leaf=1, min_samples_split=2,\n",
       "           min_weight_fraction_leaf=0.0, n_estimators=10, n_jobs=1,\n",
       "           oob_score=False, random_state=None, verbose=0, warm_start=False)"
      ]
     },
     "execution_count": 49,
     "metadata": {},
     "output_type": "execute_result"
    }
   ],
   "source": [
    "rf()"
   ]
  }
 ],
 "metadata": {
  "kernelspec": {
   "display_name": "Python 3",
   "language": "python",
   "name": "python3"
  },
  "language_info": {
   "codemirror_mode": {
    "name": "ipython",
    "version": 3
   },
   "file_extension": ".py",
   "mimetype": "text/x-python",
   "name": "python",
   "nbconvert_exporter": "python",
   "pygments_lexer": "ipython3",
   "version": "3.6.5"
  }
 },
 "nbformat": 4,
 "nbformat_minor": 2
}
